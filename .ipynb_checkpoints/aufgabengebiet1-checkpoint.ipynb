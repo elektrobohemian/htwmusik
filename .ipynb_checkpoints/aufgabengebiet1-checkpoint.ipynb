{
 "cells": [
  {
   "cell_type": "markdown",
   "metadata": {},
   "source": [
    "# Aufgabengebiet 1\n",
    "\n",
    "![Karteikarte](http://musikipac.staatsbibliothek-berlin.de/ipac_musik/imgdat/SD/SD002/JPG/00000171.jpg)\n",
    "[Der Kompletteintrag im IPAC findet sich hier.](http://musikipac.staatsbibliothek-berlin.de/ipac_musik/catalog/main?cn=SD&lin=SD0010502&rin=SD0020171&css=11)"
   ]
  },
  {
   "cell_type": "code",
   "execution_count": null,
   "metadata": {
    "collapsed": true
   },
   "outputs": [],
   "source": []
  }
 ],
 "metadata": {
  "kernelspec": {
   "display_name": "Python 2",
   "language": "python",
   "name": "python2"
  },
  "language_info": {
   "codemirror_mode": {
    "name": "ipython",
    "version": 2
   },
   "file_extension": ".py",
   "mimetype": "text/x-python",
   "name": "python",
   "nbconvert_exporter": "python",
   "pygments_lexer": "ipython2",
   "version": "2.7.10"
  }
 },
 "nbformat": 4,
 "nbformat_minor": 0
}
